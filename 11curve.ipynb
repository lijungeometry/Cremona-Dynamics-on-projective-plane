{
 "cells": [
  {
   "cell_type": "code",
   "execution_count": null,
   "metadata": {},
   "outputs": [],
   "source": [
    "#a=1e+12,\n",
    "b0=8\n",
    "C=[]\n",
    "\n",
    "#def again():\n",
    "\n",
    "    #return b0*b0-b1*b1-b2*b2-b3*b3-b4*b4-b5*b5-b6*b6-b7*b7-b8*b8-b9*b9-b10*b10-b11*b11==-1 and -3*b0+b1+b2+b3+b4+b5+b6+b7+b8+b9+b10+b11+a*a-b1*b1-b2*b2-b3*b3-b4*b4-b5*b5-b6*b6-b7*b7-b8*b8 -b9*b9-b10*b10-b11*b11== -2\n",
    "#    return b0*b0-b1*b1-b2*b2-b3*b3-b4*b4-b5*b5 ==-1 and -3*b0+b1+b2+b3+b4+b5 == -1\n",
    "for a in range(10000000000, 999999999999):\n",
    "    number = str(a)\n",
    "    #b0=int(number[0])\n",
    "    b1=int(number[1])\n",
    "    b2=int(number[2])\n",
    "    b3=int(number[3])\n",
    "    b4=int(number[4])\n",
    "    b5=int(number[5])\n",
    "    b6=int(number[6])\n",
    "    b7=int(number[7])\n",
    "    b8=int(number[8])\n",
    "    b9=int(number[9])\n",
    "    b10=int(number[10])\n",
    "    b11=int(number[11])\n",
    "\n",
    "\n",
    "    if -3*b0+b1+b2+b3+b4+b5+b6+b7+b8+b9+b10+b11==-1:\n",
    "        if b0*b0-b1*b1-b2*b2-b3*b3-b4*b4-b5*b5-b6*b6-b7*b7-b8*b8-b9*b9-b10*b10-b11*b11==-1:\n",
    "            C.append([b0,b1,b2,b3,b4,b5, b6,b7,b8,b9,b10,b11 ])\n",
    "          #  break\n",
    "   \n",
    "\n",
    "print(C)\n",
    "\n"
   ]
  }
 ],
 "metadata": {
  "language_info": {
   "name": "python"
  },
  "orig_nbformat": 4
 },
 "nbformat": 4,
 "nbformat_minor": 2
}
